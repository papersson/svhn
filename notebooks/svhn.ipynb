{
 "cells": [
  {
   "cell_type": "markdown",
   "metadata": {},
   "source": [
    "# The Street View House Numbers Dataset"
   ]
  },
  {
   "cell_type": "markdown",
   "metadata": {},
   "source": [
    "## Data Preparation"
   ]
  },
  {
   "cell_type": "code",
   "execution_count": 1,
   "metadata": {},
   "outputs": [],
   "source": [
    "from torchvision import datasets"
   ]
  },
  {
   "cell_type": "code",
   "execution_count": 2,
   "metadata": {},
   "outputs": [
    {
     "name": "stdout",
     "output_type": "stream",
     "text": [
      "Using downloaded and verified file: data/train_32x32.mat\n"
     ]
    }
   ],
   "source": [
    "data = datasets.SVHN('data', download=True)"
   ]
  },
  {
   "cell_type": "code",
   "execution_count": 3,
   "metadata": {},
   "outputs": [
    {
     "data": {
      "text/plain": [
       "73257"
      ]
     },
     "execution_count": 3,
     "metadata": {},
     "output_type": "execute_result"
    }
   ],
   "source": [
    "len(data)"
   ]
  },
  {
   "cell_type": "code",
   "execution_count": 4,
   "metadata": {},
   "outputs": [
    {
     "data": {
      "text/plain": [
       "Dataset SVHN\n",
       "    Number of datapoints: 73257\n",
       "    Root location: data\n",
       "    Split: train"
      ]
     },
     "execution_count": 4,
     "metadata": {},
     "output_type": "execute_result"
    }
   ],
   "source": [
    "data"
   ]
  },
  {
   "cell_type": "code",
   "execution_count": 5,
   "metadata": {},
   "outputs": [
    {
     "data": {
      "text/plain": [
       "(<PIL.Image.Image image mode=RGB size=32x32 at 0x7F7A9D1D4AC0>, 1)"
      ]
     },
     "execution_count": 5,
     "metadata": {},
     "output_type": "execute_result"
    }
   ],
   "source": [
    "data[0]"
   ]
  },
  {
   "cell_type": "markdown",
   "metadata": {},
   "source": [
    "### SVM Baseline"
   ]
  },
  {
   "cell_type": "code",
   "execution_count": 6,
   "metadata": {},
   "outputs": [],
   "source": [
    "small_data = [data[i] for i in range(1000)]"
   ]
  },
  {
   "cell_type": "code",
   "execution_count": 7,
   "metadata": {},
   "outputs": [
    {
     "name": "stdout",
     "output_type": "stream",
     "text": [
      "4\n"
     ]
    },
    {
     "data": {
      "image/png": "[encoded data removed]",
      "text/plain": [
       "<PIL.Image.Image image mode=RGB size=32x32 at 0x7F79FED06C70>"
      ]
     },
     "execution_count": 7,
     "metadata": {},
     "output_type": "execute_result"
    }
   ],
   "source": [
    "i = 759\n",
    "print(small_data[i][1])\n",
    "small_data[i][0]"
   ]
  },
  {
   "cell_type": "code",
   "execution_count": 8,
   "metadata": {},
   "outputs": [
    {
     "data": {
      "text/plain": [
       "((32, 32, 3),\n",
       " array([[[203, 208, 202],\n",
       "         [207, 212, 205],\n",
       "         [206, 211, 207],\n",
       "         ...,\n",
       "         [183, 194, 184],\n",
       "         [189, 202, 187],\n",
       "         [194, 209, 190]],\n",
       " \n",
       "        [[204, 209, 204],\n",
       "         [207, 212, 206],\n",
       "         [206, 212, 208],\n",
       "         ...,\n",
       "         [188, 199, 189],\n",
       "         [194, 207, 191],\n",
       "         [198, 213, 192]],\n",
       " \n",
       "        [[206, 210, 208],\n",
       "         [208, 212, 211],\n",
       "         [207, 212, 211],\n",
       "         ...,\n",
       "         [195, 206, 196],\n",
       "         [202, 215, 199],\n",
       "         [204, 221, 199]],\n",
       " \n",
       "        ...,\n",
       " \n",
       "        [[178, 182, 183],\n",
       "         [183, 189, 187],\n",
       "         [184, 189, 188],\n",
       "         ...,\n",
       "         [190, 196, 195],\n",
       "         [188, 196, 196],\n",
       "         [182, 192, 191]],\n",
       " \n",
       "        [[174, 181, 181],\n",
       "         [179, 185, 184],\n",
       "         [179, 185, 183],\n",
       "         ...,\n",
       "         [188, 193, 193],\n",
       "         [188, 193, 196],\n",
       "         [180, 190, 189]],\n",
       " \n",
       "        [[173, 179, 179],\n",
       "         [176, 182, 182],\n",
       "         [172, 180, 178],\n",
       "         ...,\n",
       "         [186, 191, 191],\n",
       "         [186, 192, 194],\n",
       "         [178, 188, 187]]], dtype=uint8))"
      ]
     },
     "execution_count": 8,
     "metadata": {},
     "output_type": "execute_result"
    }
   ],
   "source": [
    "import numpy as np\n",
    "np.array(small_data[i][0]).shape, np.array(small_data[i][0])"
   ]
  },
  {
   "cell_type": "code",
   "execution_count": 9,
   "metadata": {},
   "outputs": [
    {
     "data": {
      "text/plain": [
       "(array([206, 210, 209, ..., 190, 190, 185], dtype=uint8), (1024,))"
      ]
     },
     "execution_count": 9,
     "metadata": {},
     "output_type": "execute_result"
    }
   ],
   "source": [
    "np.array(small_data[i][0].convert('L')).flatten(), np.array(small_data[i][0].convert('L')).flatten().shape"
   ]
  },
  {
   "cell_type": "code",
   "execution_count": 10,
   "metadata": {},
   "outputs": [],
   "source": [
    "def to_np(img):\n",
    "    return np.array(img.convert('L')).flatten()"
   ]
  },
  {
   "cell_type": "code",
   "execution_count": 11,
   "metadata": {},
   "outputs": [
    {
     "data": {
      "text/plain": [
       "array([ 32,  20,  17, ..., 104, 104, 102], dtype=uint8)"
      ]
     },
     "execution_count": 11,
     "metadata": {},
     "output_type": "execute_result"
    }
   ],
   "source": [
    "to_np(small_data[0][0])"
   ]
  },
  {
   "cell_type": "code",
   "execution_count": 12,
   "metadata": {},
   "outputs": [],
   "source": [
    "X = np.array([to_np(datum[0]) for datum in small_data])\n",
    "y = np.array([datum[1] for datum in small_data])"
   ]
  },
  {
   "cell_type": "code",
   "execution_count": 13,
   "metadata": {},
   "outputs": [
    {
     "data": {
      "text/plain": [
       "((1000, 1024),\n",
       " array([[ 32,  20,  17, ..., 104, 104, 102],\n",
       "        [ 76,  76,  75, ..., 104, 102,  97],\n",
       "        [ 50,  49,  54, ..., 130, 129, 130],\n",
       "        ...,\n",
       "        [ 63,  61,  59, ..., 144, 140, 139],\n",
       "        [124, 123, 121, ...,  71,  57,  50],\n",
       "        [178, 177, 180, ..., 159, 157, 146]], dtype=uint8))"
      ]
     },
     "execution_count": 13,
     "metadata": {},
     "output_type": "execute_result"
    }
   ],
   "source": [
    "X.shape, X"
   ]
  },
  {
   "cell_type": "code",
   "execution_count": 14,
   "metadata": {},
   "outputs": [
    {
     "data": {
      "text/plain": [
       "((1000,),\n",
       " array([1, 9, 2, 3, 2, 5, 9, 3, 3, 1, 3, 3, 2, 8, 7, 4, 4, 1, 2, 8, 1, 6,\n",
       "        2, 3, 6, 3, 4, 2, 5, 8, 1, 6, 2, 3, 7, 9, 5, 3, 2, 2, 2, 6, 2, 2,\n",
       "        5, 1, 5, 4, 7, 8, 9, 6, 0, 1, 2, 4, 5, 6, 5, 2, 1, 3, 2, 1, 4, 6,\n",
       "        3, 8, 4, 3, 1, 4, 4, 2, 6, 4, 4, 1, 1, 1, 7, 3, 1, 2, 0, 4, 2, 2,\n",
       "        5, 1, 2, 9, 2, 0, 4, 1, 0, 3, 2, 7, 2, 4, 4, 6, 8, 1, 7, 1, 0, 3,\n",
       "        9, 1, 3, 5, 9, 3, 1, 1, 1, 1, 3, 7, 5, 6, 2, 1, 5, 1, 1, 2, 4, 7,\n",
       "        5, 3, 2, 4, 3, 2, 9, 5, 8, 9, 5, 1, 0, 5, 4, 2, 4, 4, 3, 1, 2, 3,\n",
       "        8, 6, 1, 5, 3, 3, 3, 1, 8, 9, 8, 7, 3, 9, 1, 3, 8, 1, 9, 2, 2, 2,\n",
       "        2, 7, 4, 4, 5, 6, 0, 3, 1, 7, 3, 5, 1, 7, 5, 1, 8, 1, 6, 4, 1, 9,\n",
       "        3, 3, 5, 1, 7, 1, 2, 1, 0, 4, 4, 1, 8, 3, 6, 1, 2, 0, 2, 1, 0, 9,\n",
       "        5, 3, 3, 5, 7, 1, 0, 4, 1, 4, 1, 4, 5, 2, 2, 3, 0, 6, 3, 9, 1, 8,\n",
       "        7, 1, 3, 1, 9, 3, 2, 5, 1, 3, 4, 8, 3, 4, 2, 1, 3, 2, 3, 5, 1, 1,\n",
       "        3, 5, 8, 1, 7, 6, 5, 6, 4, 1, 0, 8, 8, 1, 3, 6, 8, 4, 1, 7, 4, 9,\n",
       "        8, 4, 4, 9, 6, 8, 2, 1, 0, 4, 6, 2, 8, 9, 3, 9, 4, 4, 1, 1, 9, 5,\n",
       "        3, 3, 2, 5, 1, 8, 1, 5, 3, 0, 0, 4, 7, 2, 8, 6, 3, 3, 2, 0, 7, 1,\n",
       "        9, 2, 7, 6, 5, 7, 2, 9, 1, 2, 0, 8, 8, 5, 3, 5, 6, 0, 5, 1, 7, 6,\n",
       "        7, 5, 4, 1, 5, 2, 8, 2, 4, 2, 7, 6, 4, 1, 9, 2, 1, 1, 1, 5, 9, 5,\n",
       "        6, 8, 5, 1, 5, 8, 2, 1, 2, 5, 1, 7, 4, 2, 3, 7, 3, 4, 2, 1, 2, 8,\n",
       "        0, 0, 2, 5, 6, 1, 3, 0, 1, 9, 4, 5, 9, 2, 6, 1, 5, 9, 3, 1, 4, 3,\n",
       "        1, 2, 1, 3, 1, 6, 2, 9, 7, 2, 0, 3, 1, 8, 2, 3, 1, 0, 5, 2, 4, 1,\n",
       "        4, 4, 9, 4, 9, 1, 1, 1, 9, 1, 8, 8, 2, 6, 2, 7, 2, 9, 1, 8, 3, 0,\n",
       "        2, 2, 8, 0, 2, 1, 8, 3, 2, 8, 5, 1, 1, 5, 7, 2, 1, 9, 0, 6, 8, 2,\n",
       "        1, 3, 6, 1, 1, 1, 1, 7, 2, 3, 1, 4, 4, 1, 0, 1, 3, 5, 8, 8, 4, 2,\n",
       "        1, 0, 1, 1, 4, 1, 9, 3, 7, 7, 1, 4, 0, 3, 9, 1, 5, 1, 5, 2, 3, 6,\n",
       "        3, 1, 5, 3, 8, 5, 1, 2, 7, 1, 0, 7, 8, 7, 6, 3, 7, 0, 1, 9, 3, 5,\n",
       "        9, 3, 2, 8, 1, 1, 5, 6, 5, 3, 6, 1, 4, 2, 4, 1, 7, 1, 2, 1, 9, 0,\n",
       "        7, 6, 5, 0, 2, 1, 6, 3, 5, 3, 2, 5, 5, 1, 9, 4, 6, 4, 9, 1, 6, 6,\n",
       "        2, 5, 1, 7, 8, 5, 7, 1, 4, 1, 1, 1, 2, 9, 3, 7, 1, 1, 3, 1, 1, 6,\n",
       "        1, 1, 3, 4, 1, 2, 9, 2, 1, 1, 1, 1, 6, 0, 8, 4, 7, 4, 1, 0, 4, 1,\n",
       "        1, 3, 3, 6, 0, 1, 5, 1, 7, 9, 9, 6, 5, 0, 2, 3, 1, 7, 1, 5, 3, 8,\n",
       "        7, 2, 3, 2, 1, 8, 1, 2, 4, 6, 8, 1, 3, 1, 2, 1, 4, 4, 8, 4, 2, 1,\n",
       "        2, 5, 4, 4, 1, 7, 1, 6, 8, 7, 3, 4, 0, 5, 3, 1, 4, 1, 2, 6, 6, 4,\n",
       "        5, 0, 3, 0, 1, 6, 6, 7, 7, 1, 1, 4, 1, 1, 2, 3, 1, 1, 4, 8, 1, 6,\n",
       "        4, 8, 1, 5, 5, 4, 1, 1, 0, 5, 5, 3, 8, 2, 4, 3, 2, 8, 9, 1, 8, 2,\n",
       "        9, 9, 4, 4, 8, 5, 0, 8, 2, 3, 2, 4, 4, 2, 7, 4, 4, 1, 3, 8, 7, 4,\n",
       "        0, 2, 5, 3, 2, 8, 1, 5, 8, 1, 7, 3, 4, 8, 3, 0, 6, 8, 3, 4, 1, 5,\n",
       "        5, 6, 1, 6, 1, 1, 8, 1, 5, 3, 8, 9, 6, 3, 1, 5, 5, 1, 4, 7, 3, 0,\n",
       "        2, 9, 1, 9, 1, 6, 5, 8, 7, 2, 3, 5, 5, 2, 6, 1, 4, 2, 9, 9, 5, 3,\n",
       "        2, 4, 5, 0, 2, 1, 5, 9, 8, 0, 0, 8, 1, 2, 9, 1, 7, 9, 8, 1, 0, 4,\n",
       "        5, 4, 6, 2, 2, 3, 1, 1, 6, 4, 1, 6, 5, 3, 9, 8, 5, 5, 2, 7, 0, 2,\n",
       "        7, 1, 7, 9, 3, 6, 5, 2, 6, 1, 2, 3, 5, 1, 3, 1, 6, 1, 2, 7, 5, 2,\n",
       "        2, 8, 5, 6, 1, 2, 1, 5, 7, 9, 2, 6, 4, 9, 0, 4, 4, 9, 1, 7, 4, 1,\n",
       "        3, 5, 3, 3, 3, 0, 4, 1, 9, 3, 1, 2, 0, 1, 2, 1, 6, 3, 3, 7, 5, 8,\n",
       "        6, 7, 1, 7, 1, 9, 2, 1, 7, 8, 2, 2, 1, 0, 2, 1, 3, 6, 5, 3, 3, 0,\n",
       "        4, 4, 3, 6, 4, 4, 4, 5, 5, 2, 1, 5, 6, 5, 3, 2, 3, 8, 6, 0, 1, 0,\n",
       "        0, 5, 6, 0, 1, 5, 2, 5, 4, 2]))"
      ]
     },
     "execution_count": 14,
     "metadata": {},
     "output_type": "execute_result"
    }
   ],
   "source": [
    "y.shape, y"
   ]
  },
  {
   "cell_type": "code",
   "execution_count": 15,
   "metadata": {},
   "outputs": [],
   "source": [
    "from sklearn.svm import SVC\n",
    "clf = SVC()"
   ]
  },
  {
   "cell_type": "code",
   "execution_count": 16,
   "metadata": {},
   "outputs": [
    {
     "data": {
      "text/plain": [
       "0.19"
      ]
     },
     "execution_count": 16,
     "metadata": {},
     "output_type": "execute_result"
    }
   ],
   "source": [
    "k = 800\n",
    "clf.fit(X[:k], y[:k])\n",
    "clf.score(X[k:], y[k:])"
   ]
  },
  {
   "cell_type": "code",
   "execution_count": 23,
   "metadata": {},
   "outputs": [
    {
     "data": {
      "text/plain": [
       "0.19"
      ]
     },
     "execution_count": 23,
     "metadata": {},
     "output_type": "execute_result"
    }
   ],
   "source": [
    "X_norm = (X - X.mean()) / X.std()\n",
    "clf.fit(X_norm[:k], y[:k])\n",
    "clf.score(X_norm[k:], y[k:])"
   ]
  },
  {
   "cell_type": "code",
   "execution_count": 32,
   "metadata": {},
   "outputs": [],
   "source": []
  },
  {
   "cell_type": "code",
   "execution_count": 41,
   "metadata": {},
   "outputs": [],
   "source": [
    "def to_np(img):\n",
    "    return np.array(img.convert('L')).flatten()\n",
    "\n",
    "from sklearn.svm import SVC\n",
    "def classify(data, clf):\n",
    "    X = np.array([to_np(datum[0]) for datum in data])\n",
    "#     X = (X - X.mean()) / X.std()\n",
    "    y = np.array([datum[1] for datum in data])\n",
    "    \n",
    "    k = int(len(y) * 0.8)\n",
    "    clf.fit(X[:k], y[:k])\n",
    "    train_acc = clf.score(X[:k], y[:k])\n",
    "    test_acc = clf.score(X[k:], y[k:])\n",
    "    print(f'Size of X: {X.shape}')\n",
    "    print(f'Size of y: {len(y)}')\n",
    "    print(f'Train accuracy: {train_acc}')\n",
    "    print(f'Test accuracy: {test_acc}')"
   ]
  },
  {
   "cell_type": "code",
   "execution_count": 42,
   "metadata": {},
   "outputs": [
    {
     "name": "stdout",
     "output_type": "stream",
     "text": [
      "Size of X: (1000, 1024)\n",
      "Size of y: 1000\n",
      "Train accuracy: 1.0\n",
      "Test accuracy: 0.33\n"
     ]
    }
   ],
   "source": [
    "from sklearn.ensemble import RandomForestClassifier\n",
    "from sklearn.linear_model import LogisticRegression\n",
    "from sklearn.svm import SVC\n",
    "\n",
    "rfc = RandomForestClassifier(n_jobs=-1)\n",
    "classify(small_data, rfc)"
   ]
  },
  {
   "cell_type": "code",
   "execution_count": 44,
   "metadata": {},
   "outputs": [
    {
     "name": "stdout",
     "output_type": "stream",
     "text": [
      "Size of X: (1000, 1024)\n",
      "Size of y: 1000\n",
      "Train accuracy: 0.3825\n",
      "Test accuracy: 0.19\n"
     ]
    }
   ],
   "source": [
    "svm = SVC()\n",
    "classify(small_data, svm)"
   ]
  },
  {
   "cell_type": "code",
   "execution_count": 45,
   "metadata": {},
   "outputs": [
    {
     "name": "stdout",
     "output_type": "stream",
     "text": [
      "Size of X: (1000, 1024)\n",
      "Size of y: 1000\n",
      "Train accuracy: 0.49\n",
      "Test accuracy: 0.14\n"
     ]
    }
   ],
   "source": [
    "logreg = LogisticRegression(n_jobs=-1)\n",
    "classify(small_data, logreg)"
   ]
  },
  {
   "cell_type": "code",
   "execution_count": 46,
   "metadata": {},
   "outputs": [
    {
     "name": "stdout",
     "output_type": "stream",
     "text": [
      "Size of X: (73257, 1024)\n",
      "Size of y: 73257\n",
      "Train accuracy: 0.9999829366095043\n",
      "Test accuracy: 0.7196969696969697\n"
     ]
    }
   ],
   "source": [
    "classify(data, rfc)"
   ]
  },
  {
   "cell_type": "code",
   "execution_count": null,
   "metadata": {},
   "outputs": [],
   "source": [
    "#classify(data, svm)"
   ]
  },
  {
   "cell_type": "code",
   "execution_count": null,
   "metadata": {},
   "outputs": [],
   "source": [
    "classify(data, logreg)"
   ]
  },
  {
   "cell_type": "markdown",
   "metadata": {},
   "source": [
    "## Simple Convnet"
   ]
  },
  {
   "cell_type": "code",
   "execution_count": null,
   "metadata": {},
   "outputs": [],
   "source": [
    "import torch\n",
    "\n",
    "import torch\n",
    "\n",
    "class TinyModel(torch.nn.Module):\n",
    "\n",
    "    def __init__(self):\n",
    "        super(TinyModel, self).__init__()\n",
    "\n",
    "        self.linear1 = torch.nn.Linear(100, 200)\n",
    "        self.activation = torch.nn.ReLU()\n",
    "        self.linear2 = torch.nn.Linear(200, 10)\n",
    "        self.softmax = torch.nn.Softmax()\n",
    "\n",
    "    def forward(self, x):\n",
    "        x = self.linear1(x)\n",
    "        x = self.activation(x)\n",
    "        x = self.linear2(x)\n",
    "        x = self.softmax(x)\n",
    "        return x\n",
    "\n",
    "tinymodel = TinyModel()\n",
    "\n",
    "print('The model:')\n",
    "print(tinymodel)\n",
    "\n",
    "print('\\n\\nJust one layer:')\n",
    "print(tinymodel.linear2)\n",
    "\n",
    "print('\\n\\nModel params:')\n",
    "for param in tinymodel.parameters():\n",
    "    print(param)\n",
    "\n",
    "print('\\n\\nLayer params:')\n",
    "for param in tinymodel.linear2.parameters():\n",
    "    print(param)"
   ]
  },
  {
   "cell_type": "code",
   "execution_count": 1,
   "metadata": {},
   "outputs": [],
   "source": [
    "import torch\n",
    "import torchvision\n",
    "import torchvision.transforms as transforms"
   ]
  },
  {
   "cell_type": "code",
   "execution_count": 3,
   "metadata": {},
   "outputs": [
    {
     "name": "stdout",
     "output_type": "stream",
     "text": [
      "Using downloaded and verified file: ./data/train_32x32.mat\n",
      "Downloading http://ufldl.stanford.edu/housenumbers/test_32x32.mat to ./data/test_32x32.mat\n"
     ]
    },
    {
     "data": {
      "application/vnd.jupyter.widget-view+json": {
       "model_id": "c5294095db49480d8072533fb81acbda",
       "version_major": 2,
       "version_minor": 0
      },
      "text/plain": [
       "HBox(children=(FloatProgress(value=1.0, bar_style='info', max=1.0), HTML(value='')))"
      ]
     },
     "metadata": {},
     "output_type": "display_data"
    }
   ],
   "source": [
    "transform = transforms.Compose(\n",
    "    [transforms.ToTensor(),\n",
    "     transforms.Normalize((0.5, 0.5, 0.5), (0.5, 0.5, 0.5))])\n",
    "\n",
    "batch_size = 32\n",
    "\n",
    "trainset = torchvision.datasets.SVHN(root='./data', split='train',\n",
    "                                        download=True, transform=transform)\n",
    "trainloader = torch.utils.data.DataLoader(trainset, batch_size=batch_size,\n",
    "                                          shuffle=True, num_workers=2)\n",
    "\n",
    "testset = torchvision.datasets.SVHN(root='./data', split='test',\n",
    "                                       download=True, transform=transform)\n",
    "testloader = torch.utils.data.DataLoader(testset, batch_size=batch_size,\n",
    "                                         shuffle=False, num_workers=2)\n",
    "\n",
    "classes = ('plane', 'car', 'bird', 'cat',\n",
    "           'deer', 'dog', 'frog', 'horse', 'ship', 'truck')"
   ]
  },
  {
   "cell_type": "code",
   "execution_count": 42,
   "metadata": {},
   "outputs": [
    {
     "data": {
      "text/plain": [
       "Dataset SVHN\n",
       "    Number of datapoints: 73257\n",
       "    Root location: ./data\n",
       "    Split: train\n",
       "    StandardTransform\n",
       "Transform: Compose(\n",
       "               ToTensor()\n",
       "               Normalize(mean=(0.5, 0.5, 0.5), std=(0.5, 0.5, 0.5))\n",
       "           )"
      ]
     },
     "execution_count": 42,
     "metadata": {},
     "output_type": "execute_result"
    }
   ],
   "source": [
    "trainset"
   ]
  },
  {
   "cell_type": "code",
   "execution_count": 46,
   "metadata": {},
   "outputs": [
    {
     "data": {
      "text/plain": [
       "[tensor([[[[ 0.0745,  0.0745,  0.0745,  ..., -0.0275, -0.0275, -0.0118],\n",
       "           [ 0.0824,  0.0902,  0.0902,  ..., -0.0275, -0.0196, -0.0196],\n",
       "           [ 0.0824,  0.0745,  0.0588,  ..., -0.0431, -0.0353, -0.0275],\n",
       "           ...,\n",
       "           [-0.7333, -0.7176, -0.7176,  ..., -0.0745, -0.0510, -0.0275],\n",
       "           [-0.6784, -0.6627, -0.6706,  ..., -0.0824, -0.0745, -0.0431],\n",
       "           [-0.5765, -0.5216, -0.5451,  ..., -0.0980, -0.0824, -0.0510]],\n",
       " \n",
       "          [[-0.0588, -0.0510, -0.0510,  ..., -0.0902, -0.0902, -0.1059],\n",
       "           [-0.0510, -0.0431, -0.0431,  ..., -0.0980, -0.1059, -0.1137],\n",
       "           [-0.0510, -0.0667, -0.0745,  ..., -0.1294, -0.1216, -0.1216],\n",
       "           ...,\n",
       "           [-0.7020, -0.7020, -0.7098,  ..., -0.1216, -0.1059, -0.0824],\n",
       "           [-0.6627, -0.6471, -0.6627,  ..., -0.1294, -0.1216, -0.1059],\n",
       "           [-0.5843, -0.5373, -0.5608,  ..., -0.1451, -0.1294, -0.1137]],\n",
       " \n",
       "          [[-0.1922, -0.1686, -0.1529,  ..., -0.2706, -0.2549, -0.2314],\n",
       "           [-0.2078, -0.1765, -0.1529,  ..., -0.2706, -0.2627, -0.2392],\n",
       "           [-0.2235, -0.1843, -0.1765,  ..., -0.2941, -0.2706, -0.2471],\n",
       "           ...,\n",
       "           [-0.6941, -0.6863, -0.6941,  ..., -0.2471, -0.2314, -0.2078],\n",
       "           [-0.6314, -0.6471, -0.6627,  ..., -0.2627, -0.2471, -0.2078],\n",
       "           [-0.5608, -0.5608, -0.5843,  ..., -0.2627, -0.2549, -0.2157]]],\n",
       " \n",
       " \n",
       "         [[[-0.1451, -0.1137, -0.0588,  ...,  0.2941,  0.3176,  0.3255],\n",
       "           [-0.1373, -0.1059, -0.0431,  ...,  0.2706,  0.2941,  0.3020],\n",
       "           [-0.1137, -0.0824, -0.0196,  ...,  0.2235,  0.2549,  0.2627],\n",
       "           ...,\n",
       "           [-0.2392, -0.2314, -0.2157,  ..., -0.1294, -0.0824, -0.0510],\n",
       "           [-0.2706, -0.2627, -0.2392,  ..., -0.0275,  0.0039,  0.0196],\n",
       "           [-0.2784, -0.2706, -0.2471,  ...,  0.0196,  0.0510,  0.0667]],\n",
       " \n",
       "          [[-0.2549, -0.2235, -0.1451,  ...,  0.2863,  0.2941,  0.2941],\n",
       "           [-0.2471, -0.2078, -0.1294,  ...,  0.2627,  0.2784,  0.2784],\n",
       "           [-0.2235, -0.1843, -0.0980,  ...,  0.2314,  0.2471,  0.2549],\n",
       "           ...,\n",
       "           [-0.3255, -0.3255, -0.3255,  ..., -0.0824, -0.0431, -0.0118],\n",
       "           [-0.3647, -0.3647, -0.3490,  ...,  0.0118,  0.0275,  0.0431],\n",
       "           [-0.3882, -0.3804, -0.3647,  ...,  0.0510,  0.0745,  0.0824]],\n",
       " \n",
       "          [[-0.2627, -0.2392, -0.1843,  ...,  0.2000,  0.2157,  0.2235],\n",
       "           [-0.2549, -0.2235, -0.1686,  ...,  0.1922,  0.2078,  0.2157],\n",
       "           [-0.2235, -0.1922, -0.1373,  ...,  0.1843,  0.2000,  0.2078],\n",
       "           ...,\n",
       "           [-0.2784, -0.2784, -0.2706,  ..., -0.1137, -0.0588, -0.0275],\n",
       "           [-0.3098, -0.3098, -0.2941,  ..., -0.0196,  0.0039,  0.0196],\n",
       "           [-0.3255, -0.3176, -0.3020,  ...,  0.0275,  0.0510,  0.0588]]],\n",
       " \n",
       " \n",
       "         [[[-0.2157, -0.2078, -0.1529,  ..., -0.2392, -0.2314, -0.2314],\n",
       "           [-0.2471, -0.2157, -0.1373,  ..., -0.2549, -0.2471, -0.2549],\n",
       "           [-0.2863, -0.2392, -0.1451,  ..., -0.2706, -0.2706, -0.2706],\n",
       "           ...,\n",
       "           [-0.4118, -0.3176, -0.2314,  ..., -0.2157, -0.2078, -0.2000],\n",
       "           [-0.4118, -0.3176, -0.2392,  ..., -0.2078, -0.1765, -0.1843],\n",
       "           [-0.3882, -0.3098, -0.2392,  ..., -0.1922, -0.1608, -0.1529]],\n",
       " \n",
       "          [[-0.5216, -0.5765, -0.5608,  ..., -0.3569, -0.3412, -0.3412],\n",
       "           [-0.5294, -0.5686, -0.5451,  ..., -0.3961, -0.3647, -0.3569],\n",
       "           [-0.5686, -0.5686, -0.5216,  ..., -0.4118, -0.3882, -0.3725],\n",
       "           ...,\n",
       "           [-0.7020, -0.6471, -0.6000,  ..., -0.4039, -0.3725, -0.3647],\n",
       "           [-0.7020, -0.6471, -0.6000,  ..., -0.3961, -0.3647, -0.3490],\n",
       "           [-0.6784, -0.6314, -0.5843,  ..., -0.3804, -0.3490, -0.3412]],\n",
       " \n",
       "          [[-0.4980, -0.5294, -0.5137,  ..., -0.3804, -0.3647, -0.3647],\n",
       "           [-0.5137, -0.5294, -0.4980,  ..., -0.4118, -0.3882, -0.4039],\n",
       "           [-0.5686, -0.5529, -0.4902,  ..., -0.4275, -0.4118, -0.4196],\n",
       "           ...,\n",
       "           [-0.6392, -0.5922, -0.5451,  ..., -0.4196, -0.3961, -0.3725],\n",
       "           [-0.6392, -0.5922, -0.5529,  ..., -0.4118, -0.3804, -0.3569],\n",
       "           [-0.6157, -0.5843, -0.5451,  ..., -0.3961, -0.3647, -0.3569]]],\n",
       " \n",
       " \n",
       "         ...,\n",
       " \n",
       " \n",
       "         [[[-0.2471, -0.1686, -0.0667,  ..., -0.4353, -0.4275, -0.4118],\n",
       "           [-0.2392, -0.1451,  0.0118,  ..., -0.2863, -0.2706, -0.2784],\n",
       "           [-0.2000, -0.0588,  0.1137,  ..., -0.0980, -0.0588, -0.0980],\n",
       "           ...,\n",
       "           [ 0.1373,  0.1059,  0.1059,  ..., -0.2471, -0.2549, -0.2471],\n",
       "           [ 0.1373,  0.1059,  0.1059,  ..., -0.3255, -0.3255, -0.3333],\n",
       "           [ 0.1451,  0.1137,  0.0980,  ..., -0.4353, -0.4275, -0.4275]],\n",
       " \n",
       "          [[-0.2627, -0.1922, -0.0745,  ..., -0.4667, -0.4510, -0.4431],\n",
       "           [-0.2706, -0.1608,  0.0118,  ..., -0.3412, -0.3098, -0.3098],\n",
       "           [-0.2314, -0.0667,  0.1294,  ..., -0.1451, -0.0980, -0.1294],\n",
       "           ...,\n",
       "           [ 0.1608,  0.1373,  0.1451,  ..., -0.3098, -0.3176, -0.3098],\n",
       "           [ 0.1608,  0.1373,  0.1451,  ..., -0.3804, -0.3725, -0.3804],\n",
       "           [ 0.1686,  0.1529,  0.1451,  ..., -0.4667, -0.4588, -0.4824]],\n",
       " \n",
       "          [[-0.1765, -0.0980, -0.0039,  ..., -0.3804, -0.3569, -0.3098],\n",
       "           [-0.1608, -0.0588,  0.0980,  ..., -0.2471, -0.2078, -0.1843],\n",
       "           [-0.1216,  0.0353,  0.2157,  ..., -0.0745, -0.0196, -0.0196],\n",
       "           ...,\n",
       "           [ 0.2000,  0.1686,  0.1529,  ..., -0.1529, -0.1686, -0.1608],\n",
       "           [ 0.2000,  0.1686,  0.1451,  ..., -0.2471, -0.2392, -0.2471],\n",
       "           [ 0.2078,  0.1843,  0.1451,  ..., -0.3412, -0.3255, -0.3412]]],\n",
       " \n",
       " \n",
       "         [[[-0.3882, -0.3882, -0.3647,  ..., -0.0510, -0.0588, -0.0667],\n",
       "           [-0.4353, -0.4353, -0.3961,  ..., -0.0196, -0.0275, -0.0118],\n",
       "           [-0.4745, -0.4824, -0.4431,  ..., -0.1373, -0.1059, -0.0902],\n",
       "           ...,\n",
       "           [-0.5059, -0.5529, -0.6157,  ..., -0.1686, -0.0824, -0.0353],\n",
       "           [-0.4745, -0.5137, -0.5686,  ..., -0.0824, -0.0431, -0.0431],\n",
       "           [-0.4196, -0.4431, -0.4980,  ..., -0.0667, -0.0745, -0.0824]],\n",
       " \n",
       "          [[-0.4824, -0.4824, -0.4510,  ...,  0.0353,  0.0196,  0.0039],\n",
       "           [-0.5294, -0.5216, -0.4745,  ...,  0.0902,  0.0824,  0.0588],\n",
       "           [-0.5686, -0.5686, -0.5137,  ..., -0.0039,  0.0118, -0.0118],\n",
       "           ...,\n",
       "           [-0.5373, -0.5529, -0.5922,  ..., -0.0510,  0.0275,  0.0510],\n",
       "           [-0.5137, -0.5294, -0.5529,  ...,  0.0039,  0.0353,  0.0275],\n",
       "           [-0.4824, -0.4902, -0.5137,  ...,  0.0118, -0.0118, -0.0431]],\n",
       " \n",
       "          [[-0.4824, -0.4824, -0.4588,  ...,  0.0275,  0.0118, -0.0039],\n",
       "           [-0.5137, -0.5059, -0.4745,  ...,  0.1137,  0.0980,  0.0902],\n",
       "           [-0.5373, -0.5373, -0.4824,  ...,  0.0431,  0.0588,  0.0510],\n",
       "           ...,\n",
       "           [-0.5529, -0.5765, -0.6078,  ..., -0.0510,  0.0039,  0.0196],\n",
       "           [-0.5373, -0.5451, -0.5765,  ...,  0.0118,  0.0275,  0.0039],\n",
       "           [-0.5059, -0.5137, -0.5294,  ...,  0.0196, -0.0196, -0.0745]]],\n",
       " \n",
       " \n",
       "         [[[-0.0118, -0.0275, -0.0275,  ..., -0.0196, -0.0431, -0.0667],\n",
       "           [-0.0118, -0.0196, -0.0275,  ..., -0.0824, -0.1216, -0.1373],\n",
       "           [-0.0118, -0.0196, -0.0275,  ..., -0.1608, -0.2392, -0.2627],\n",
       "           ...,\n",
       "           [-0.1216, -0.1137, -0.1137,  ..., -0.3569, -0.3490, -0.3412],\n",
       "           [-0.0824, -0.0902, -0.0902,  ..., -0.3725, -0.4039, -0.4118],\n",
       "           [-0.0745, -0.0745, -0.0745,  ..., -0.3569, -0.4118, -0.4275]],\n",
       " \n",
       "          [[ 0.0196,  0.0039, -0.0039,  ...,  0.0275, -0.0039, -0.0275],\n",
       "           [ 0.0196,  0.0118,  0.0039,  ..., -0.0275, -0.0824, -0.0980],\n",
       "           [ 0.0118,  0.0039, -0.0039,  ..., -0.0980, -0.1765, -0.2157],\n",
       "           ...,\n",
       "           [-0.0588, -0.0510, -0.0510,  ..., -0.2627, -0.2627, -0.2549],\n",
       "           [-0.0196, -0.0196, -0.0275,  ..., -0.2706, -0.3098, -0.3176],\n",
       "           [-0.0039, -0.0039, -0.0039,  ..., -0.2627, -0.3176, -0.3333]],\n",
       " \n",
       "          [[ 0.0118, -0.0039, -0.0118,  ...,  0.0510,  0.0275,  0.0039],\n",
       "           [ 0.0275,  0.0039, -0.0118,  ...,  0.0039, -0.0431, -0.0667],\n",
       "           [ 0.0196,  0.0039, -0.0118,  ..., -0.0667, -0.1373, -0.1765],\n",
       "           ...,\n",
       "           [-0.0353, -0.0275, -0.0275,  ..., -0.2000, -0.1922, -0.1765],\n",
       "           [-0.0118, -0.0118, -0.0196,  ..., -0.2000, -0.2157, -0.2078],\n",
       "           [-0.0118, -0.0118, -0.0118,  ..., -0.1765, -0.2157, -0.2078]]]]),\n",
       " tensor([2, 3, 0, 2, 6, 5, 1, 9, 9, 5, 2, 1, 1, 3, 3, 9, 6, 5, 5, 1, 4, 2, 6, 1,\n",
       "         1, 7, 5, 5, 2, 7, 9, 2])]"
      ]
     },
     "execution_count": 46,
     "metadata": {},
     "output_type": "execute_result"
    }
   ],
   "source": [
    "dataiter = iter(trainloader)\n",
    "next(dataiter)"
   ]
  },
  {
   "cell_type": "code",
   "execution_count": 50,
   "metadata": {},
   "outputs": [
    {
     "data": {
      "text/plain": [
       "32"
      ]
     },
     "execution_count": 50,
     "metadata": {},
     "output_type": "execute_result"
    }
   ],
   "source": [
    "len(next(dataiter)[1])\n",
    "# Data loader gives batch of 32 observations"
   ]
  },
  {
   "cell_type": "code",
   "execution_count": 9,
   "metadata": {},
   "outputs": [
    {
     "data": {
      "text/plain": [
       "torch.Size([3, 32, 32])"
      ]
     },
     "execution_count": 9,
     "metadata": {},
     "output_type": "execute_result"
    }
   ],
   "source": [
    "trainset[0][0].shape"
   ]
  },
  {
   "cell_type": "code",
   "execution_count": 36,
   "metadata": {},
   "outputs": [
    {
     "name": "stdout",
     "output_type": "stream",
     "text": [
      "cuda:0\n"
     ]
    },
    {
     "data": {
      "text/plain": [
       "Net(\n",
       "  (conv1): Conv2d(3, 20, kernel_size=(5, 5), stride=(1, 1))\n",
       "  (pool): MaxPool2d(kernel_size=2, stride=2, padding=0, dilation=1, ceil_mode=False)\n",
       "  (conv2): Conv2d(20, 16, kernel_size=(5, 5), stride=(1, 1))\n",
       "  (fc1): Linear(in_features=400, out_features=120, bias=True)\n",
       "  (fc2): Linear(in_features=120, out_features=84, bias=True)\n",
       "  (fc3): Linear(in_features=84, out_features=10, bias=True)\n",
       ")"
      ]
     },
     "execution_count": 36,
     "metadata": {},
     "output_type": "execute_result"
    }
   ],
   "source": [
    "import torch.nn as nn\n",
    "import torch.nn.functional as F\n",
    "\n",
    "\n",
    "class Net(nn.Module):\n",
    "    def __init__(self):\n",
    "        super().__init__()\n",
    "        self.conv1 = nn.Conv2d(3, 20, 5)\n",
    "        self.pool = nn.MaxPool2d(2, 2)\n",
    "        self.conv2 = nn.Conv2d(20, 16, 5)\n",
    "        self.fc1 = nn.Linear(16 * 5 * 5, 120)\n",
    "        self.fc2 = nn.Linear(120, 84)\n",
    "        self.fc3 = nn.Linear(84, 10)\n",
    "\n",
    "    def forward(self, x):\n",
    "        x = self.pool(F.relu(self.conv1(x)))\n",
    "        x = self.pool(F.relu(self.conv2(x)))\n",
    "        x = torch.flatten(x, 1) # flatten all dimensions except batch\n",
    "        x = F.relu(self.fc1(x))\n",
    "        x = F.relu(self.fc2(x))\n",
    "        x = self.fc3(x)\n",
    "        return x\n",
    "\n",
    "\n",
    "net = Net()\n",
    "device = torch.device('cuda:0' if torch.cuda.is_available() else 'cpu')\n",
    "\n",
    "# Assuming that we are on a CUDA machine, this should print a CUDA device:\n",
    "\n",
    "print(device)\n",
    "\n",
    "net.to(device)"
   ]
  },
  {
   "cell_type": "code",
   "execution_count": 37,
   "metadata": {},
   "outputs": [],
   "source": [
    "import torch.optim as optim\n",
    "\n",
    "criterion = nn.CrossEntropyLoss()\n",
    "optimizer = optim.SGD(net.parameters(), lr=0.001, momentum=0.9)"
   ]
  },
  {
   "cell_type": "code",
   "execution_count": 41,
   "metadata": {},
   "outputs": [
    {
     "ename": "AttributeError",
     "evalue": "'int' object has no attribute 'to'",
     "output_type": "error",
     "traceback": [
      "\u001b[0;31m---------------------------------------------------------------------------\u001b[0m",
      "\u001b[0;31mAttributeError\u001b[0m                            Traceback (most recent call last)",
      "\u001b[0;32m<ipython-input-41-e4930e63fad4>\u001b[0m in \u001b[0;36m<module>\u001b[0;34m\u001b[0m\n\u001b[1;32m      5\u001b[0m         \u001b[0;31m# get the inputs; data is a list of [inputs, labels]\u001b[0m\u001b[0;34m\u001b[0m\u001b[0;34m\u001b[0m\u001b[0;34m\u001b[0m\u001b[0m\n\u001b[1;32m      6\u001b[0m \u001b[0;31m#         inputs, labels = data\u001b[0m\u001b[0;34m\u001b[0m\u001b[0;34m\u001b[0m\u001b[0;34m\u001b[0m\u001b[0m\n\u001b[0;32m----> 7\u001b[0;31m         \u001b[0minputs\u001b[0m\u001b[0;34m,\u001b[0m \u001b[0mlabels\u001b[0m \u001b[0;34m=\u001b[0m \u001b[0mdata\u001b[0m\u001b[0;34m[\u001b[0m\u001b[0;36m0\u001b[0m\u001b[0;34m]\u001b[0m\u001b[0;34m.\u001b[0m\u001b[0mto\u001b[0m\u001b[0;34m(\u001b[0m\u001b[0mdevice\u001b[0m\u001b[0;34m)\u001b[0m\u001b[0;34m,\u001b[0m \u001b[0mdata\u001b[0m\u001b[0;34m[\u001b[0m\u001b[0;36m1\u001b[0m\u001b[0;34m]\u001b[0m\u001b[0;34m.\u001b[0m\u001b[0mto\u001b[0m\u001b[0;34m(\u001b[0m\u001b[0mdevice\u001b[0m\u001b[0;34m)\u001b[0m\u001b[0;34m\u001b[0m\u001b[0;34m\u001b[0m\u001b[0m\n\u001b[0m\u001b[1;32m      8\u001b[0m \u001b[0;34m\u001b[0m\u001b[0m\n\u001b[1;32m      9\u001b[0m         \u001b[0;31m# zero the parameter gradients\u001b[0m\u001b[0;34m\u001b[0m\u001b[0;34m\u001b[0m\u001b[0;34m\u001b[0m\u001b[0m\n",
      "\u001b[0;31mAttributeError\u001b[0m: 'int' object has no attribute 'to'"
     ]
    }
   ],
   "source": [
    "for epoch in range(10):  # loop over the dataset multiple times\n",
    "\n",
    "    running_loss = 0.0\n",
    "    for i, data in enumerate(trainloader, 0):\n",
    "        # get the inputs; data is a list of [inputs, labels]\n",
    "#         inputs, labels = data\n",
    "        inputs, labels = data[0].to(device), data[1].to(device)\n",
    "\n",
    "        # zero the parameter gradients\n",
    "        optimizer.zero_grad()\n",
    "\n",
    "        # forward + backward + optimize\n",
    "        outputs = net(inputs)\n",
    "        loss = criterion(outputs, labels)\n",
    "        loss.backward()\n",
    "        optimizer.step()\n",
    "\n",
    "        # print statistics\n",
    "        running_loss += loss.item()\n",
    "        if i % 2000 == 1999:    # print every 2000 mini-batches\n",
    "            print(f'[{epoch + 1}, {i + 1:5d}] loss: {running_loss / 2000:.3f}')\n",
    "            running_loss = 0.0\n",
    "\n",
    "print('Finished Training')"
   ]
  },
  {
   "cell_type": "code",
   "execution_count": 39,
   "metadata": {},
   "outputs": [],
   "source": [
    "PATH = './svhn.pth'\n",
    "torch.save(net.state_dict(), PATH)"
   ]
  },
  {
   "cell_type": "code",
   "execution_count": 40,
   "metadata": {},
   "outputs": [
    {
     "name": "stdout",
     "output_type": "stream",
     "text": [
      "Accuracy of the network on the 10000 test images: 88 %\n"
     ]
    }
   ],
   "source": [
    "correct = 0\n",
    "total = 0\n",
    "# since we're not training, we don't need to calculate the gradients for our outputs\n",
    "with torch.no_grad():\n",
    "    for data in testloader:\n",
    "#         images, labels = data\n",
    "        images, labels = data[0].to(device), data[1].to(device)\n",
    "        # calculate outputs by running images through the network\n",
    "        outputs = net(images)\n",
    "        # the class with the highest energy is what we choose as prediction\n",
    "        _, predicted = torch.max(outputs.data, 1)\n",
    "        total += labels.size(0)\n",
    "        correct += (predicted == labels).sum().item()\n",
    "\n",
    "print(f'Accuracy of the network on the 10000 test images: {100 * correct // total} %')"
   ]
  },
  {
   "cell_type": "code",
   "execution_count": 16,
   "metadata": {},
   "outputs": [],
   "source": []
  }
 ],
 "metadata": {
  "kernelspec": {
   "display_name": "Python 3",
   "language": "python",
   "name": "python3"
  },
  "language_info": {
   "codemirror_mode": {
    "name": "ipython",
    "version": 3
   },
   "file_extension": ".py",
   "mimetype": "text/x-python",
   "name": "python",
   "nbconvert_exporter": "python",
   "pygments_lexer": "ipython3",
   "version": "3.8.3"
  }
 },
 "nbformat": 4,
 "nbformat_minor": 4
}
